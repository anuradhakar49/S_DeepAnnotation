{
 "cells": [
  {
   "cell_type": "code",
   "execution_count": 3,
   "id": "b701eb8c",
   "metadata": {},
   "outputs": [],
   "source": [
    "import torch\n",
    "import numpy as np\n",
    "#from lib.models.unet import Unet\n",
    "#from lib import utils\n",
    "from matplotlib import cm\n",
    "\n",
    "from PIL import Image, ImageStat\n",
    "import os"
   ]
  },
  {
   "cell_type": "code",
   "execution_count": 7,
   "id": "12d3ca1d",
   "metadata": {},
   "outputs": [],
   "source": [
    "test_set = '/Users/anuradha.kar/Documents/python_scripts/unet-pytorch/test_set'\n",
    "img_name = 'patch_2.png'\n",
    "label_name = 'mask_2.png'"
   ]
  },
  {
   "cell_type": "code",
   "execution_count": 9,
   "id": "22871aed",
   "metadata": {},
   "outputs": [],
   "source": [
    "img = Image.open(os.path.join(test_set, img_name)).convert('RGB')\n",
    "label = Image.open(os.path.join(test_set, label_name)).convert('L')"
   ]
  },
  {
   "cell_type": "code",
   "execution_count": 10,
   "id": "95481109",
   "metadata": {},
   "outputs": [
    {
     "name": "stdout",
     "output_type": "stream",
     "text": [
      "(128, 128) 128 128\n"
     ]
    }
   ],
   "source": [
    "print(img.size, img.size[0], img.size[1])\n",
    "\n",
    "img_show = img.resize((img.size[0]//8,img.size[1]//8)) # resize four times bigger\n",
    "label_show = label.resize((img.size[0]//8,img.size[1]//8)) # resize four times bigger\n",
    "label_show = label_show.point(lambda i: i * 255) \n"
   ]
  },
  {
   "cell_type": "code",
   "execution_count": null,
   "id": "4dd1a8ea",
   "metadata": {},
   "outputs": [],
   "source": [
    "from unet import AttU_Net"
   ]
  },
  {
   "cell_type": "code",
   "execution_count": null,
   "id": "0aa20d24",
   "metadata": {},
   "outputs": [],
   "source": [
    "img = np.array(img)\n",
    "img = img.transpose((2, 0, 1))\n",
    "img = np.expand_dims(img,3)\n",
    "img = img.transpose((3, 0, 1, 2))\n",
    "\n",
    "# print(img.shape)\n",
    "\n",
    "img = torch.from_numpy(img)\n",
    "\n",
    "device = torch.device(\"cuda\" if torch.cuda.is_available() else \"cpu\")\n",
    "model = Unet(inchannels=3, outchannels=1, net_depth=4)\n",
    "model.to(device)\n",
    "model.load_state_dict(torch.load('/Users/anuradha.kar/Documents/python_scripts/unet-pytorch/test_set/best_model.pth'))"
   ]
  },
  {
   "cell_type": "code",
   "execution_count": null,
   "id": "384c5d9f",
   "metadata": {},
   "outputs": [],
   "source": [
    "img = img.to(device, dtype=torch.float)\n",
    "with torch.no_grad():\n",
    "    pred_mask = model(img)\n",
    "    pred = torch.sigmoid(pred_mask)\n",
    "    pred = (pred > 0.5).float()\n",
    "    pred = pred.cpu()\n",
    "\n",
    "# print(pred.shape)\n",
    "pred = Image.fromarray(np.uint8(np.squeeze(pred)*255))\n",
    "pred.save('../results/prediction.png')"
   ]
  }
 ],
 "metadata": {
  "kernelspec": {
   "display_name": "Python 3 (ipykernel)",
   "language": "python",
   "name": "python3"
  },
  "language_info": {
   "codemirror_mode": {
    "name": "ipython",
    "version": 3
   },
   "file_extension": ".py",
   "mimetype": "text/x-python",
   "name": "python",
   "nbconvert_exporter": "python",
   "pygments_lexer": "ipython3",
   "version": "3.9.12"
  }
 },
 "nbformat": 4,
 "nbformat_minor": 5
}
